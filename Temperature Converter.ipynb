{
 "cells": [
  {
   "cell_type": "markdown",
   "metadata": {},
   "source": [
    "# Mini Project 1: Temperature Conversion"
   ]
  },
  {
   "cell_type": "markdown",
   "metadata": {},
   "source": [
    "* Create a simple temperature conversion application that converts the temperature measurements from degrees Celsius to degrees Fahrenheit or vice versa based on the mode selection by the user. \n",
    "* The comments below serves as a guide for you to complete the project. \n",
    "* You are free to add extra features to the project given that you satisfy all the requirements that was asked.\n",
    "\n",
    "Note: You do not need to attach the .csv file when you are submitting"
   ]
  },
  {
   "cell_type": "code",
   "execution_count": 1,
   "metadata": {},
   "outputs": [],
   "source": [
    "import csv\n",
    "from datetime import datetime"
   ]
  },
  {
   "cell_type": "code",
   "execution_count": 2,
   "metadata": {},
   "outputs": [
    {
     "name": "stdout",
     "output_type": "stream",
     "text": [
      "Celsius mode\n",
      "Converted temperature in Fahrenheit: 33.8\n"
     ]
    }
   ],
   "source": [
    "def celsius_to_fahrenheit(celsius):\n",
    "    return (celsius * 9/5) + 32\n",
    "\n",
    "def fahrenheit_to_celsius(fahrenheit):\n",
    "    return (fahrenheit - 32) * 5/9\n",
    "\n",
    "def write_to_csv(data):\n",
    "    with open('temperature_conversion.csv', mode='a', newline='') as file:\n",
    "        writer = csv.writer(file)\n",
    "        writer.writerow(data)\n",
    "\n",
    "# Prompt the user to select the mode (Celcius or Fahrenheit)\n",
    "# Prompt the user to insert the value that needs to be converted to the other unit\n",
    "# Convert the values inserted into the other unit and display on the output\n",
    "\n",
    "def main():\n",
    "    unit = input(\"Enter 'C' for Celsius or 'F' for Fahrenheit: \").strip().upper()\n",
    "\n",
    "    if unit == 'C':\n",
    "        print(\"Celsius mode\")\n",
    "        temperature = float(input(\"Enter the temperature value: \"))\n",
    "        converted_temperature_fahrenheit = celsius_to_fahrenheit(temperature)\n",
    "        print(f\"Converted temperature in Fahrenheit: {converted_temperature_fahrenheit}\")\n",
    "    elif unit == 'F':\n",
    "        print(\"Fahrenheit mode\")\n",
    "        temperature = float(input(\"Enter the temperature value: \"))\n",
    "        converted_temperature_celsius = fahrenheit_to_celsius(temperature)  # Fix the variable name here\n",
    "        print(f\"Converted temperature in Celsius: {converted_temperature_celsius}\")\n",
    "    else:\n",
    "        print(\"Invalid input.\")\n",
    "        return\n",
    "    \n",
    "# store in a CSV file with datetime information by adding a new line for each entry\n",
    "# datetime, mode, value in selected unit, converted value\n",
    "\n",
    "    timestamp = datetime.now().strftime('%Y-%m-%d %H:%M:%S')\n",
    "    data = [timestamp, unit, temperature, converted_temperature_fahrenheit if unit == 'C' else converted_temperature_celsius]\n",
    "    write_to_csv(data)\n",
    "\n",
    "if __name__ == '__main__':\n",
    "    main()\n"
   ]
  }
 ],
 "metadata": {
  "kernelspec": {
   "display_name": "Python 3",
   "language": "python",
   "name": "python3"
  },
  "language_info": {
   "codemirror_mode": {
    "name": "ipython",
    "version": 3
   },
   "file_extension": ".py",
   "mimetype": "text/x-python",
   "name": "python",
   "nbconvert_exporter": "python",
   "pygments_lexer": "ipython3",
   "version": "3.11.5"
  }
 },
 "nbformat": 4,
 "nbformat_minor": 2
}
